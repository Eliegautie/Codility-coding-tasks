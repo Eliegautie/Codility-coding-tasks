{
 "cells": [
  {
   "cell_type": "markdown",
   "id": "3bd3fb83",
   "metadata": {},
   "source": [
    "**Codility:**  \n",
    "*Developer Training*  \n",
    "\n",
    "Lesson 2:  \n",
    "\n",
    "Task : Cyclic rotation"
   ]
  },
  {
   "cell_type": "code",
   "execution_count": 5,
   "id": "0ccc391d",
   "metadata": {},
   "outputs": [
    {
     "name": "stdout",
     "output_type": "stream",
     "text": [
      "[9, 7, 6, 3, 8]\n"
     ]
    }
   ],
   "source": [
    "A = [3, 8, 9, 7, 6]\n",
    "K = 3\n",
    "\n",
    "N = len(A)                                      \n",
    "B = [0]*N\n",
    "\n",
    "for i in range(0,N):\n",
    "    B[(i+K)%N] = A[i] \n",
    "print(B)"
   ]
  },
  {
   "cell_type": "markdown",
   "id": "4eecfa3a",
   "metadata": {},
   "source": [
    "Task : OddOccurrencesInArra"
   ]
  },
  {
   "cell_type": "code",
   "execution_count": 6,
   "id": "9837965e",
   "metadata": {},
   "outputs": [
    {
     "name": "stdout",
     "output_type": "stream",
     "text": [
      "6\n",
      "9\n"
     ]
    }
   ],
   "source": [
    "A = [9,3,9,3,9,7,6]\n",
    "\n",
    "A.sort()\n",
    "A.append(-1)\n",
    "for i in range(0,len(A),2):    \n",
    "    if A[i] != A[i+1]:        \n",
    "        print(A[i])"
   ]
  }
 ],
 "metadata": {
  "kernelspec": {
   "display_name": "Python 3 (ipykernel)",
   "language": "python",
   "name": "python3"
  },
  "language_info": {
   "codemirror_mode": {
    "name": "ipython",
    "version": 3
   },
   "file_extension": ".py",
   "mimetype": "text/x-python",
   "name": "python",
   "nbconvert_exporter": "python",
   "pygments_lexer": "ipython3",
   "version": "3.9.13"
  }
 },
 "nbformat": 4,
 "nbformat_minor": 5
}
