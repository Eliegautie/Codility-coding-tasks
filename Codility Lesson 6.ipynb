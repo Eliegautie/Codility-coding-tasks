{
 "cells": [
  {
   "cell_type": "markdown",
   "id": "41ae03eb",
   "metadata": {},
   "source": [
    "**Lesson 6 :**  \n",
    "Task : Maxprodofthree"
   ]
  },
  {
   "cell_type": "code",
   "execution_count": 2,
   "id": "3e8bcab5",
   "metadata": {},
   "outputs": [],
   "source": [
    "A = [-3,1-2,5,6]\n",
    "\n",
    "def solution(A):    \n",
    "    A.sort()\n",
    "    if A[-1] < 0:\n",
    "        return A[-1]*A[-2]*A[-3]   \n",
    "    return max((A[0]*A[1]*A[-1]),(A[-1]*A[-2]*A[-3]))"
   ]
  },
  {
   "cell_type": "markdown",
   "id": "e144775a",
   "metadata": {},
   "source": [
    "Task : NumberOfDiscIntersections "
   ]
  },
  {
   "cell_type": "code",
   "execution_count": 3,
   "id": "209177fb",
   "metadata": {},
   "outputs": [
    {
     "name": "stdout",
     "output_type": "stream",
     "text": [
      "11\n"
     ]
    }
   ],
   "source": [
    "A = [1,5,2,1,4,0]\n",
    "\n",
    "common_point = 0\n",
    "\n",
    "for i in range(0,len(A)):    \n",
    "    for x in range(i+1,len(A)):        \n",
    "        a = i + A[i]\n",
    "        b = x - A[x]\n",
    "        \n",
    "        if b <= a :            \n",
    "            common_point += 1            \n",
    "print(common_point)"
   ]
  }
 ],
 "metadata": {
  "kernelspec": {
   "display_name": "Python 3 (ipykernel)",
   "language": "python",
   "name": "python3"
  },
  "language_info": {
   "codemirror_mode": {
    "name": "ipython",
    "version": 3
   },
   "file_extension": ".py",
   "mimetype": "text/x-python",
   "name": "python",
   "nbconvert_exporter": "python",
   "pygments_lexer": "ipython3",
   "version": "3.9.13"
  }
 },
 "nbformat": 4,
 "nbformat_minor": 5
}
