{
 "cells": [
  {
   "cell_type": "markdown",
   "id": "41ae03eb",
   "metadata": {},
   "source": [
    "**Lesson 6 :**  \n",
    "Task : Distinct"
   ]
  },
  {
   "cell_type": "code",
   "execution_count": 4,
   "id": "3e8bcab5",
   "metadata": {},
   "outputs": [
    {
     "data": {
      "text/plain": [
       "3"
      ]
     },
     "execution_count": 4,
     "metadata": {},
     "output_type": "execute_result"
    }
   ],
   "source": [
    "A = [2,1,1,2,3,1]\n",
    "\n",
    "def solution(A):    \n",
    "    return len(set(A))\n",
    "\n",
    "solution(A)"
   ]
  },
  {
   "cell_type": "markdown",
   "id": "e144775a",
   "metadata": {},
   "source": [
    "Task : MaxProductOfThree "
   ]
  },
  {
   "cell_type": "code",
   "execution_count": 5,
   "id": "209177fb",
   "metadata": {},
   "outputs": [
    {
     "data": {
      "text/plain": [
       "60"
      ]
     },
     "execution_count": 5,
     "metadata": {},
     "output_type": "execute_result"
    }
   ],
   "source": [
    "A = [-3,1,2,-2,5,6]\n",
    "\n",
    "def solution(A):    \n",
    "    A.sort()\n",
    "    if A[-1] < 0:\n",
    "        return A[-1]*A[-2]*A[-3]   \n",
    "    return max((A[0]*A[1]*A[-1]),(A[-1]*A[-2]*A[-3]))\n",
    "\n",
    "solution(A)"
   ]
  },
  {
   "cell_type": "markdown",
   "id": "14c0b711",
   "metadata": {},
   "source": [
    "Task : Triangle"
   ]
  },
  {
   "cell_type": "code",
   "execution_count": 9,
   "id": "c243a555",
   "metadata": {},
   "outputs": [
    {
     "data": {
      "text/plain": [
       "1"
      ]
     },
     "execution_count": 9,
     "metadata": {},
     "output_type": "execute_result"
    }
   ],
   "source": [
    "A = [10,2,5,1,8,20]\n",
    "\n",
    "def solution(A):    \n",
    "    \n",
    "    for P in range(0, len(A)-2):  \n",
    "        \n",
    "        for Q in range(P+1, len(A)-1):  \n",
    "            \n",
    "            for R in range(Q+1, len(A)):   \n",
    "                \n",
    "                if A[P] + A[Q] > A[R] and A[Q] + A[R] > A[P] and A[R] + A[P] > A[Q]:\n",
    "                    return 1\n",
    "    return 0\n",
    "\n",
    "solution(A)"
   ]
  },
  {
   "cell_type": "markdown",
   "id": "70603d3a",
   "metadata": {},
   "source": [
    "Task : NumberOfDiscIntersections"
   ]
  },
  {
   "cell_type": "code",
   "execution_count": 10,
   "id": "1ffe493e",
   "metadata": {},
   "outputs": [
    {
     "data": {
      "text/plain": [
       "11"
      ]
     },
     "execution_count": 10,
     "metadata": {},
     "output_type": "execute_result"
    }
   ],
   "source": [
    "A = [1,5,2,1,4,0]\n",
    "\n",
    "def solution(A):    \n",
    "    common_point = 0\n",
    "\n",
    "    for i in range(0,len(A)):    \n",
    "        for x in range(i+1,len(A)):        \n",
    "            a = i + A[i]\n",
    "            b = x - A[x]\n",
    "        \n",
    "            if b <= a :            \n",
    "                common_point += 1            \n",
    "    return common_point\n",
    "\n",
    "solution(A)"
   ]
  }
 ],
 "metadata": {
  "kernelspec": {
   "display_name": "Python 3 (ipykernel)",
   "language": "python",
   "name": "python3"
  },
  "language_info": {
   "codemirror_mode": {
    "name": "ipython",
    "version": 3
   },
   "file_extension": ".py",
   "mimetype": "text/x-python",
   "name": "python",
   "nbconvert_exporter": "python",
   "pygments_lexer": "ipython3",
   "version": "3.9.13"
  }
 },
 "nbformat": 4,
 "nbformat_minor": 5
}
