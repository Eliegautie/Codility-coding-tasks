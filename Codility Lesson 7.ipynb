{
 "cells": [
  {
   "cell_type": "markdown",
   "id": "9991b5cf",
   "metadata": {},
   "source": [
    "**Lesson 7:**  \n",
    "Task :  Dominator"
   ]
  },
  {
   "cell_type": "code",
   "execution_count": 2,
   "id": "ee44cf9d",
   "metadata": {},
   "outputs": [],
   "source": [
    "def solution(S):\n",
    "    \n",
    "    for i in range(0,len(S)):\n",
    "            a = S[i]\n",
    "            b = S[-(i+1)]\n",
    "            if a == \"[\" and b != \"]\":\n",
    "                return 0\n",
    "            if a == \"(\" and S[i+1] or b != \")\":\n",
    "                return 0\n",
    "            if a == \"{\" and b != \"}\":\n",
    "                return 0\n",
    "            if a == \")\" and b or S[i+1] != \"(\" :\n",
    "                return 0\n",
    "    return 1\n",
    "\n",
    "\n",
    "# I need to work on this one, I only got 37% of the grade."
   ]
  }
 ],
 "metadata": {
  "kernelspec": {
   "display_name": "Python 3 (ipykernel)",
   "language": "python",
   "name": "python3"
  },
  "language_info": {
   "codemirror_mode": {
    "name": "ipython",
    "version": 3
   },
   "file_extension": ".py",
   "mimetype": "text/x-python",
   "name": "python",
   "nbconvert_exporter": "python",
   "pygments_lexer": "ipython3",
   "version": "3.9.13"
  }
 },
 "nbformat": 4,
 "nbformat_minor": 5
}
