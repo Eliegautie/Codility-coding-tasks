{
 "cells": [
  {
   "cell_type": "markdown",
   "id": "5beb8ebe",
   "metadata": {},
   "source": [
    "**Lesson 3:**  \n",
    "Task : PermMissElem"
   ]
  },
  {
   "cell_type": "code",
   "execution_count": 2,
   "id": "afaf2861",
   "metadata": {},
   "outputs": [
    {
     "name": "stdout",
     "output_type": "stream",
     "text": [
      "4\n"
     ]
    }
   ],
   "source": [
    "A = [2,3,1,5]\n",
    "def solution(A):\n",
    "    if len(A) == 0: \n",
    "        return 1\n",
    "    \n",
    "    A.sort()\n",
    "    for i in range(0,len(A)):\n",
    "        if A[i]!= i+1:\n",
    "            return i+1\n",
    "\n",
    "\n",    
    "solution(A)"
   ]
  },
  {
   "cell_type": "markdown",
   "id": "a875e3ea",
   "metadata": {},
   "source": [
    "Task : FrogJump"
   ]
  },
  {
   "cell_type": "code",
   "execution_count": 3,
   "id": "0effd3b2",
   "metadata": {},
   "outputs": [
    {
     "name": "stdout",
     "output_type": "stream",
     "text": [
      "3\n"
     ]
    }
   ],
   "source": [
    "def solution(X, Y, D):    \n",
    "    a = Y - X    \n",
    "    if a % D > 0:\n",
    "        return a // D + 1\n",
    "    return a // D\n",
    "\n",
    "\n",
    "solution(10,85,30)"
   ]
  },
  {
   "cell_type": "markdown",
   "id": "eb974f4f",
   "metadata": {},
   "source": [
    "Task : TapeEquilibrium"
   ]
  },
  {
   "cell_type": "code",
   "execution_count": 5,
   "id": "a356437b",
   "metadata": {},
   "outputs": [
    {
     "name": "stdout",
     "output_type": "stream",
     "text": [
      "1\n"
     ]
    }
   ],
   "source": [
    "A = [3,1,2,4,3]\n",
    "def solution(A):\n",
    "    mini = abs(A[0]-sum(A[1:]))\n",
    "    for i in range(1,len(A)):\n",
    "        a = A[:i]\n",
    "        b = A[i:]\n",
    "        c = abs(sum(a)-sum(b))\n",
    "        mini = min(mini,c) \n",
    "    return mini\n",
    "\n",    
    "solution(A)"
   ]
  }
 ],
 "metadata": {
  "kernelspec": {
   "display_name": "Python 3 (ipykernel)",
   "language": "python",
   "name": "python3"
  },
  "language_info": {
   "codemirror_mode": {
    "name": "ipython",
    "version": 3
   },
   "file_extension": ".py",
   "mimetype": "text/x-python",
   "name": "python",
   "nbconvert_exporter": "python",
   "pygments_lexer": "ipython3",
   "version": "3.9.13"
  }
 },
 "nbformat": 4,
 "nbformat_minor": 5
}
