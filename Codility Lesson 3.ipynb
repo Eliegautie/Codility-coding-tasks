{
 "cells": [
  {
   "cell_type": "markdown",
   "id": "5beb8ebe",
   "metadata": {},
   "source": [
    "**Lesson 3:**  \n",
    "Task : PermMissElem"
   ]
  },
  {
   "cell_type": "code",
   "execution_count": 1,
   "id": "afaf2861",
   "metadata": {},
   "outputs": [
    {
     "name": "stdout",
     "output_type": "stream",
     "text": [
      "4\n"
     ]
    }
   ],
   "source": [
    "A = [2,3,1,5]\n",
    "\n",
    "if len(A) == 0:    \n",
    "    print(1)    \n",
    "A.sort()\n",
    "for i in range(0,len(A)):\n",
    "    if A[i]!= i+1:\n",
    "        print(i+1)"
   ]
  }
 ],
 "metadata": {
  "kernelspec": {
   "display_name": "Python 3 (ipykernel)",
   "language": "python",
   "name": "python3"
  },
  "language_info": {
   "codemirror_mode": {
    "name": "ipython",
    "version": 3
   },
   "file_extension": ".py",
   "mimetype": "text/x-python",
   "name": "python",
   "nbconvert_exporter": "python",
   "pygments_lexer": "ipython3",
   "version": "3.9.13"
  }
 },
 "nbformat": 4,
 "nbformat_minor": 5
}
