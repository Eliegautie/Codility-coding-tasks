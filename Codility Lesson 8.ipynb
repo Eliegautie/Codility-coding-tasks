{
 "cells": [
  {
   "cell_type": "markdown",
   "id": "710dc0c8",
   "metadata": {},
   "source": [
    "**Lesson 8:**  \n",
    "Task : Dominator"
   ]
  },
  {
   "cell_type": "code",
   "execution_count": 5,
   "id": "77fabdd6",
   "metadata": {},
   "outputs": [
    {
     "data": {
      "text/plain": [
       "2"
      ]
     },
     "execution_count": 5,
     "metadata": {},
     "output_type": "execute_result"
    }
   ],
   "source": [
    "A = [3,4,3,2,3,-1,3,3]\n",
    "\n",
    "from collections import Counter\n",
    "import random\n",
    "def solution(A):  \n",
    "    if len(A) == 0:\n",
    "        return -1\n",
    "\n",
    "    if len(A) == 1:\n",
    "        return 0\n",
    "\n",
    "    index_list = []\n",
    "    max_element = Counter(A).most_common(1)\n",
    "    a = max_element[0][0] \n",
    "    b = max_element[0][1] \n",
    "    \n",
    "    if b > len(A)/2:    \n",
    "        for i in range(len(A)):            \n",
    "            if A[i] == a:\n",
    "                index_list.append(i)\n",
    "                \n",
    "        return random.choice(index_list)\n",
    "    return -1\n",
    "\n",
    "solution(A)"
   ]
  },
  {
   "cell_type": "markdown",
   "id": "36c96ed4",
   "metadata": {},
   "source": [
    "Task : EquiLeader"
   ]
  },
  {
   "cell_type": "code",
   "execution_count": 5,
   "id": "c42bfaf1",
   "metadata": {},
   "outputs": [
    {
     "data": {
      "text/plain": [
       "2"
      ]
     },
     "execution_count": 5,
     "metadata": {},
     "output_type": "execute_result"
    }
   ],
   "source": [
    "A = [4,3,4,4,4,2]\n",
    "\n",
    "from collections import Counter\n",
    "def solution(A): \n",
    "\n",
    "    count = 0\n",
    "\n",
    "    if len(A) == 1:\n",
    "        return 0\n",
    "        \n",
    "    if len(A) == 2:\n",
    "        if A[0] != A[1]:\n",
    "            return 0\n",
    "        return 1 \n",
    "\n",
    " \n",
    "    leader = Counter(A).most_common(1)\n",
    "    leader_value = leader[0][0]   \n",
    "\n",
    "    for i in range(1,len(A)):\n",
    "\n",
    "        a = A[:i].count(leader_value)\n",
    "\n",
    "        if a > len(A[:i])//2 and (leader[0][1]-a) > len(A[i:]) // 2:\n",
    "\n",
    "            count+=1\n",
    "\n",
    "    return count          \n",
    "\n",
    "solution(A)"
   ]
  }
 ],
 "metadata": {
  "kernelspec": {
   "display_name": "Python 3 (ipykernel)",
   "language": "python",
   "name": "python3"
  },
  "language_info": {
   "codemirror_mode": {
    "name": "ipython",
    "version": 3
   },
   "file_extension": ".py",
   "mimetype": "text/x-python",
   "name": "python",
   "nbconvert_exporter": "python",
   "pygments_lexer": "ipython3",
   "version": "3.9.13"
  }
 },
 "nbformat": 4,
 "nbformat_minor": 5
}
