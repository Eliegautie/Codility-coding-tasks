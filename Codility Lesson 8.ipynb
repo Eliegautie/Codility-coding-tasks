{
 "cells": [
  {
   "cell_type": "markdown",
   "id": "710dc0c8",
   "metadata": {},
   "source": [
    "**Lesson 8:**  \n",
    "Task : EquiLeader"
   ]
  },
  {
   "cell_type": "code",
   "execution_count": 6,
   "id": "77fabdd6",
   "metadata": {},
   "outputs": [
    {
     "name": "stdout",
     "output_type": "stream",
     "text": [
      "2\n"
     ]
    }
   ],
   "source": [
    "A = [4,3,4,4,4,2]\n",
    "\n",
    "list = []\n",
    "for i in range(1,len(A)):\n",
    "    a = A[:i]\n",
    "    b = A[i:]\n",
    "    for x in range(0,len(a)):\n",
    "        if a.count(a[x])>(len(a)//2):\n",
    "            max_a = a[x]\n",
    "            for y in range(0,len(b)):\n",
    "                if b.count(b[y])>(len(b)//2):\n",
    "                    max_b = b[y]\n",
    "                    if max_a == max_b:\n",
    "                        list.append(i)\n",
    "                        break\n",
    "print(len(set(list)))  "
   ]
  }
 ],
 "metadata": {
  "kernelspec": {
   "display_name": "Python 3 (ipykernel)",
   "language": "python",
   "name": "python3"
  },
  "language_info": {
   "codemirror_mode": {
    "name": "ipython",
    "version": 3
   },
   "file_extension": ".py",
   "mimetype": "text/x-python",
   "name": "python",
   "nbconvert_exporter": "python",
   "pygments_lexer": "ipython3",
   "version": "3.9.13"
  }
 },
 "nbformat": 4,
 "nbformat_minor": 5
}
