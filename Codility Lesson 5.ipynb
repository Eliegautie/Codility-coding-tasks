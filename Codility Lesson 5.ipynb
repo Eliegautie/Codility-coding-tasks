{
 "cells": [
  {
   "cell_type": "markdown",
   "id": "52b0e033",
   "metadata": {},
   "source": [
    "**Lesson 5 :**  \n",
    "Task : PassingCars"
   ]
  },
  {
   "cell_type": "code",
   "execution_count": 8,
   "id": "ecefa64b",
   "metadata": {},
   "outputs": [
    {
     "data": {
      "text/plain": [
       "5"
      ]
     },
     "execution_count": 8,
     "metadata": {},
     "output_type": "execute_result"
    }
   ],
   "source": [
    "A=[0,1,0,1,1]\n",
    "\n",
    "def solution(A):    \n",
    "    passing_cars = 0\n",
    "    \n",
    "    for i in range(0,len(A)):\n",
    "        \n",
    "        if A[i]==0:            \n",
    "            passing_cars += A[i:].count(1)\n",
    "            \n",
    "            if passing_cars > 1000000000:\n",
    "                return -1\n",
    "    return passing_cars\n",
    "\n",
    "solution(A)"
   ]
  },
  {
   "cell_type": "markdown",
   "id": "217bae2d",
   "metadata": {},
   "source": [
    "Task : Countdiv"
   ]
  },
  {
   "cell_type": "code",
   "execution_count": 9,
   "id": "061bd1fe",
   "metadata": {},
   "outputs": [
    {
     "data": {
      "text/plain": [
       "3"
      ]
     },
     "execution_count": 9,
     "metadata": {},
     "output_type": "execute_result"
    }
   ],
   "source": [
    "A = 6\n",
    "B = 11\n",
    "K = 2\n",
    "\n",
    "def solution(A, B, K):\n",
    "    \n",
    "    if A%K == 0:\n",
    "        return B//K - (A//K-1)\n",
    "    return B//K - A//K \n",
    "\n",
    "solution(A,B,K)"
   ]
  },
  {
   "cell_type": "markdown",
   "id": "5be16b0f",
   "metadata": {},
   "source": [
    "Task : GenomicRangeQuery"
   ]
  },
  {
   "cell_type": "code",
   "execution_count": 13,
   "id": "c53471e0",
   "metadata": {},
   "outputs": [
    {
     "data": {
      "text/plain": [
       "[2, 4, 1]"
      ]
     },
     "execution_count": 13,
     "metadata": {},
     "output_type": "execute_result"
    }
   ],
   "source": [
    "S = ['C','A','G','C','C','T','A']\n",
    "P = [2,5,0]\n",
    "Q = [4,5,6]\n",
    "\n",
    "def solution(S,P,Q):\n",
    "    \n",
    "    DNA = []\n",
    "    Min_factor = []    \n",
    "    for i in range(0,len(S)):\n",
    "        \n",
    "        if S[i] == \"A\":        \n",
    "            DNA.append(1)\n",
    "        elif S[i] == \"C\":\n",
    "            DNA.append(2)\n",
    "        elif S[i] == \"G\":\n",
    "            DNA.append(3)\n",
    "        elif S[i] == \"T\":        \n",
    "            DNA.append(4)\n",
    "                \n",
    "    for i in range(0,len(P)):\n",
    "        a = P[i]\n",
    "        b = Q[i]\n",
    "        Min_factor.append(min(DNA[a:b+1]))\n",
    "    return Min_factor\n",
    "\n",
    "solution(S,P,Q)"
   ]
  },
  {
   "cell_type": "markdown",
   "id": "24de9d06",
   "metadata": {},
   "source": [
    "Task : GenomicRangeQuery - second solution"
   ]
  },
  {
   "cell_type": "code",
   "execution_count": 14,
   "id": "3b1869f5",
   "metadata": {},
   "outputs": [
    {
     "data": {
      "text/plain": [
       "[2, 4, 1]"
      ]
     },
     "execution_count": 14,
     "metadata": {},
     "output_type": "execute_result"
    }
   ],
   "source": [
    "def solution(S,P,Q):\n",
    "    \n",
    "    min_impact = []\n",
    "    for i in range(0,len(P)): \n",
    "        \n",
    "        a = P[i]\n",
    "        b = Q[i]\n",
    "        c = S[a:b+1]\n",
    "        for i in range(len(c)):\n",
    "            \n",
    "            c = [1 if element == 'A' else element for element in c]\n",
    "            c = [2 if element == 'C' else element for element in c]\n",
    "            c = [3 if element == 'G' else element for element in c]\n",
    "            c = [4 if element == 'T' else element for element in c]\n",
    "            \n",
    "        min_impact.append(min(c))\n",
    "        \n",
    "    return min_impact\n",
    "\n",
    "solution(S,P,Q)"
   ]
  },
  {
   "cell_type": "markdown",
   "id": "8ab4d8e7",
   "metadata": {},
   "source": [
    "Task : MinAvgTwoSlice"
   ]
  },
  {
   "cell_type": "code",
   "execution_count": 15,
   "id": "984d335c",
   "metadata": {},
   "outputs": [
    {
     "data": {
      "text/plain": [
       "1"
      ]
     },
     "execution_count": 15,
     "metadata": {},
     "output_type": "execute_result"
    }
   ],
   "source": [
    "A = [4,2,2,5,1,5,8]\n",
    "\n",
    "import statistics\n",
    "def solution(A):\n",
    "    lst = [] \n",
    "    lst_min = []\n",
    "    \n",
    "    for i in range(0,len(A)-1):        \n",
    "\n",
    "        for x in range(len(A)-1, i, -1):             \n",
    "            lst.append(statistics.mean(A[i:x+1]))\n",
    "        lst_min.append(min(lst))\n",
    "    \n",
    "    a = min(lst_min)\n",
    "    for i in lst_min:  \n",
    "        \n",
    "        if i == a:            \n",
    "            return lst_min.index(i)\n",
    "            break\n",
    "\n",
    "solution(A)"
   ]
  }
 ],
 "metadata": {
  "kernelspec": {
   "display_name": "Python 3 (ipykernel)",
   "language": "python",
   "name": "python3"
  },
  "language_info": {
   "codemirror_mode": {
    "name": "ipython",
    "version": 3
   },
   "file_extension": ".py",
   "mimetype": "text/x-python",
   "name": "python",
   "nbconvert_exporter": "python",
   "pygments_lexer": "ipython3",
   "version": "3.9.13"
  }
 },
 "nbformat": 4,
 "nbformat_minor": 5
}
