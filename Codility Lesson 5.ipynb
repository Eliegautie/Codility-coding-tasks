{
 "cells": [
  {
   "cell_type": "markdown",
   "id": "52b0e033",
   "metadata": {},
   "source": [
    "**Lesson 5 :**  \n",
    "Task : PassingCars"
   ]
  },
  {
   "cell_type": "code",
   "execution_count": 2,
   "id": "ecefa64b",
   "metadata": {},
   "outputs": [
    {
     "name": "stdout",
     "output_type": "stream",
     "text": [
      "5\n"
     ]
    }
   ],
   "source": [
    "A=[0,1,0,1,1]\n",
    "\n",
    "passing_cars = 0\n",
    "for i in range(0,len(A)):\n",
    "    if A[i]==0:            \n",
    "        passing_cars += A[i:].count(1)\n",
    "        if passing_cars > 1000000000:\n",
    "            print(-1)\n",
    "print(passing_cars)"
   ]
  },
  {
   "cell_type": "markdown",
   "id": "217bae2d",
   "metadata": {},
   "source": [
    "Task : Countdiv"
   ]
  },
  {
   "cell_type": "code",
   "execution_count": 3,
   "id": "061bd1fe",
   "metadata": {},
   "outputs": [],
   "source": [
    "A = 6\n",
    "B = 11\n",
    "K = 2\n",
    "\n",
    "def solution(A, B, K):\n",
    "    \n",
    "    if A%K == 0:\n",
    "        return B//K - (A//K-1)\n",
    "    return B//K - A//K "
   ]
  },
  {
   "cell_type": "markdown",
   "id": "5be16b0f",
   "metadata": {},
   "source": [
    "Task : GenomicRangeQuery"
   ]
  },
  {
   "cell_type": "code",
   "execution_count": 4,
   "id": "c53471e0",
   "metadata": {},
   "outputs": [
    {
     "name": "stdout",
     "output_type": "stream",
     "text": [
      "[2, 4, 1]\n"
     ]
    }
   ],
   "source": [
    "S = ['C','A','G','C','C','T','A']\n",
    "P = [2,5,0]\n",
    "Q = [4,5,6]\n",
    "\n",
    "DNA = []\n",
    "Min_factor = []    \n",
    "for i in range(0,len(S)):\n",
    "        \n",
    "    if S[i] == \"A\":        \n",
    "        DNA.append(1)\n",
    "    elif S[i] == \"C\":\n",
    "        DNA.append(2)\n",
    "    elif S[i] == \"G\":\n",
    "        DNA.append(3)\n",
    "    elif S[i] == \"T\":        \n",
    "        DNA.append(4)\n",
    "                \n",
    "for i in range(0,len(P)):\n",
    "    a = P[i]\n",
    "    b = Q[i]\n",
    "    Min_factor.append(min(DNA[a:b+1]))\n",
    "print(Min_factor)"
   ]
  },
  {
   "cell_type": "markdown",
   "id": "24de9d06",
   "metadata": {},
   "source": [
    "Task : GenomicRangeQuery - second solution"
   ]
  },
  {
   "cell_type": "code",
   "execution_count": 5,
   "id": "3b1869f5",
   "metadata": {},
   "outputs": [
    {
     "name": "stdout",
     "output_type": "stream",
     "text": [
      "[2, 4, 1]\n"
     ]
    }
   ],
   "source": [
    "min_impact = []\n",
    "for i in range(0,len(P)):\n",
    "    a = P[i]\n",
    "    b = Q[i]\n",
    "    c = S[a:b+1]\n",
    "    for i in range(len(c)):\n",
    "        c = [1 if element == 'A' else element for element in c]\n",
    "        c = [2 if element == 'C' else element for element in c]\n",
    "        c = [3 if element == 'G' else element for element in c]\n",
    "        c = [4 if element == 'T' else element for element in c]\n",
    "    min_impact.append(min(c))\n",
    "print (min_impact)"
   ]
  },
  {
   "cell_type": "markdown",
   "id": "8ab4d8e7",
   "metadata": {},
   "source": [
    "Task : MinAvgTwoSlice"
   ]
  },
  {
   "cell_type": "code",
   "execution_count": 6,
   "id": "984d335c",
   "metadata": {},
   "outputs": [
    {
     "name": "stdout",
     "output_type": "stream",
     "text": [
      "1\n"
     ]
    }
   ],
   "source": [
    "A = [4,2,2,5,1,5,8]\n",
    "\n",
    "import statistics\n",
    "sum_list = []\n",
    "sum_index = []\n",
    "for i in range(0,len(A)):\n",
    "    for x in range(i+1,len(A)):            \n",
    "        a = sum_list.append(statistics.mean(A[i:x+1]))\n",
    "        sum_index.append([i,x])\n",
    "    \n",
    "a =  sum_list.count(min(sum_list))\n",
    "b = sum_list.index(min(sum_list))\n",
    "if a > 1:\n",
    "    for i in sum_index:\n",
    "        print (min(i))\n",
    "else:        \n",
    "    a = sum_index[b]\n",
    "    print(a[0])\n",
    "    \n",
    "\n",
    "# I need to work on this one, I only got 40% of the grade."
   ]
  }
 ],
 "metadata": {
  "kernelspec": {
   "display_name": "Python 3 (ipykernel)",
   "language": "python",
   "name": "python3"
  },
  "language_info": {
   "codemirror_mode": {
    "name": "ipython",
    "version": 3
   },
   "file_extension": ".py",
   "mimetype": "text/x-python",
   "name": "python",
   "nbconvert_exporter": "python",
   "pygments_lexer": "ipython3",
   "version": "3.9.13"
  }
 },
 "nbformat": 4,
 "nbformat_minor": 5
}
