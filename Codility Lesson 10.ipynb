{
 "cells": [
  {
   "cell_type": "markdown",
   "id": "d5e39fd8",
   "metadata": {},
   "source": [
    "**Lesson 10:**  \n",
    "Task : CountFactors"
   ]
  },
  {
   "cell_type": "code",
   "execution_count": 4,
   "id": "4c4d4d1e",
   "metadata": {},
   "outputs": [
    {
     "data": {
      "text/plain": [
       "8"
      ]
     },
     "execution_count": 4,
     "metadata": {},
     "output_type": "execute_result"
    }
   ],
   "source": [
    "N = 24\n",
    "\n",
    "def solution(N):\n",
    "    factor = 0    \n",
    "\n",
    "    if N == 1:\n",
    "        return 1    \n",
    "    \n",
    "    a = N**0.5\n",
    "    \n",
    "    if a != int:\n",
    "        a = int(a)+1  \n",
    "\n",
    "    for i in range(1,a):\n",
    "        \n",
    "        if N%i == 0 and N//i != i:\n",
    "            factor += 2\n",
    "            \n",
    "        if N%i == 0 and N//i == i:\n",
    "            factor += 1\n",
    "        \n",
    "    return factor\n",
    "\n",
    "solution(N)"
   ]
  },
  {
   "cell_type": "markdown",
   "id": "31f1551f",
   "metadata": {},
   "source": [
    "Task : MinPerimeterRectangle"
   ]
  },
  {
   "cell_type": "code",
   "execution_count": 5,
   "id": "b1147665",
   "metadata": {},
   "outputs": [
    {
     "data": {
      "text/plain": [
       "22"
      ]
     },
     "execution_count": 5,
     "metadata": {},
     "output_type": "execute_result"
    }
   ],
   "source": [
    "N = 30\n",
    "\n",
    "def solution(N):\n",
    "\n",
    "    perimeter_list = []\n",
    "\n",
    "    a = N**0.5\n",
    "    \n",
    "    if a != int:\n",
    "        a = int(a)+1  \n",
    "\n",
    "    for i in range(1,a):\n",
    "        if N%i == 0:\n",
    "            \n",
    "            perimeter = 2*(i + N//i)\n",
    "            perimeter_list.append(perimeter)\n",
    "            \n",
    "    return min(perimeter_list)\n",
    "\n",
    "\n",
    "solution(N)"
   ]
  }
 ],
 "metadata": {
  "kernelspec": {
   "display_name": "Python 3 (ipykernel)",
   "language": "python",
   "name": "python3"
  },
  "language_info": {
   "codemirror_mode": {
    "name": "ipython",
    "version": 3
   },
   "file_extension": ".py",
   "mimetype": "text/x-python",
   "name": "python",
   "nbconvert_exporter": "python",
   "pygments_lexer": "ipython3",
   "version": "3.9.13"
  }
 },
 "nbformat": 4,
 "nbformat_minor": 5
}
