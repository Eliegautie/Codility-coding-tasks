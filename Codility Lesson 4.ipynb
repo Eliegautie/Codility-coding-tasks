{
 "cells": [
  {
   "cell_type": "markdown",
   "id": "d9f57791",
   "metadata": {},
   "source": [
    "**Lesson 4:**  \n",
    "Task : frogriverone"
   ]
  },
  {
   "cell_type": "code",
   "execution_count": 1,
   "id": "27f38265",
   "metadata": {},
   "outputs": [
    {
     "name": "stdout",
     "output_type": "stream",
     "text": [
      "6\n"
     ]
    }
   ],
   "source": [
    "A = [1,3,1,4,2,3,5,4]\n",
    "X = 5\n",
    "\n",
    "B = [-1]*X\n",
    "for i in range(0,len(A)):\n",
    "    if (A[i]<=X and B[A[i]-1] ==-1):\n",
    "        B[A[i]-1]=i\n",
    "m = 0\n",
    "for i in range(0,len(B)):\n",
    "    if B[i] == -1:\n",
    "        print(-1)\n",
    "    m = max(m,B[i])\n",
    "print(m)"
   ]
  },
  {
   "cell_type": "markdown",
   "id": "a9bd9aa0",
   "metadata": {},
   "source": [
    "Task : Permcheck"
   ]
  },
  {
   "cell_type": "code",
   "execution_count": 3,
   "id": "178da673",
   "metadata": {},
   "outputs": [],
   "source": [
    "A = [4,1,3,2]\n",
    "\n",
    "def solution(A):\n",
    "    lst = [i for i in range(1,len(A)+1)]\n",
    "    A.sort()\n",
    "    if A == lst :\n",
    "        return 1\n",
    "    return 0 "
   ]
  },
  {
   "cell_type": "markdown",
   "id": "1e515ac2",
   "metadata": {},
   "source": [
    "Task : MissingInteger"
   ]
  },
  {
   "cell_type": "code",
   "execution_count": 4,
   "id": "1bd7dd65",
   "metadata": {},
   "outputs": [],
   "source": [
    "A = [1, 3, 6, 4, 1, 2]\n",
    "\n",
    "def solution(A):\n",
    "    A = list(set(A))\n",
    "    if A[0] > 1:\n",
    "         return 1\n",
    "    if A[-1] < 1:\n",
    "        return 1\n",
    "    if A.count(1) == 0:\n",
    "        return 1\n",
    "    for i in range(0,len(A)-1):\n",
    "        if A[i]+1 != A[i+1] :\n",
    "            return A[i]+1        \n",
    "    return A[-1]+1 "
   ]
  }
 ],
 "metadata": {
  "kernelspec": {
   "display_name": "Python 3 (ipykernel)",
   "language": "python",
   "name": "python3"
  },
  "language_info": {
   "codemirror_mode": {
    "name": "ipython",
    "version": 3
   },
   "file_extension": ".py",
   "mimetype": "text/x-python",
   "name": "python",
   "nbconvert_exporter": "python",
   "pygments_lexer": "ipython3",
   "version": "3.9.13"
  }
 },
 "nbformat": 4,
 "nbformat_minor": 5
}
