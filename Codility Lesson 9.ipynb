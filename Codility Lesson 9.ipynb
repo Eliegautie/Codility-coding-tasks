{
 "cells": [
  {
   "cell_type": "markdown",
   "id": "6258c536",
   "metadata": {},
   "source": [
    "**Lesson 9:**  \n",
    "Task : MaxProfit"
   ]
  },
  {
   "cell_type": "code",
   "execution_count": 1,
   "id": "c491521a",
   "metadata": {},
   "outputs": [],
   "source": [
    "A = [23171, 21011,21123,21366,21013,21367]\n",
    "\n",
    "list = []\n",
    "\n",
    "def solution(A):\n",
    "    \n",
    "    if len(A) != 0:\n",
    "        for i in range(0,len(A)):\n",
    "            a = A[i]\n",
    "            \n",
    "            for x in range(i+1, len(A)):\n",
    "                b = max(A[i+1:])\n",
    "                list.append(b-a)\n",
    "                \n",
    "        if len(list) != 0:\n",
    "            return max(list)\n",
    "        return 0"
   ]
  },
  {
   "cell_type": "markdown",
   "id": "2becdf03",
   "metadata": {},
   "source": [
    "Task : Maximum slice problem"
   ]
  },
  {
   "cell_type": "code",
   "execution_count": 4,
   "id": "197d65b8",
   "metadata": {},
   "outputs": [],
   "source": [
    "sum = 0\n",
    "list = []\n",
    "\n",
    "def solution(A):\n",
    "    \n",
    "    if len(A) == 1:\n",
    "        return A[0]\n",
    "    \n",
    "    for i in range(0,len(A)):\n",
    "        sum = sum + A[i]\n",
    "        \n",
    "        for x in range(i+1,len(A)):\n",
    "                sum = sum + A[x]\n",
    "                list.append(sum)            \n",
    "        sum = 0\n",
    "            \n",
    "        if max(list) < max(A):\n",
    "            return max(A) \n",
    "        return max(list)"
   ]
  }
 ],
 "metadata": {
  "kernelspec": {
   "display_name": "Python 3 (ipykernel)",
   "language": "python",
   "name": "python3"
  },
  "language_info": {
   "codemirror_mode": {
    "name": "ipython",
    "version": 3
   },
   "file_extension": ".py",
   "mimetype": "text/x-python",
   "name": "python",
   "nbconvert_exporter": "python",
   "pygments_lexer": "ipython3",
   "version": "3.9.13"
  }
 },
 "nbformat": 4,
 "nbformat_minor": 5
}
