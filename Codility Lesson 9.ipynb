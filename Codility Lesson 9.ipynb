{
 "cells": [
  {
   "cell_type": "markdown",
   "id": "6258c536",
   "metadata": {},
   "source": [
    "**Lesson 9:**  \n",
    "Task : MaxProfit"
   ]
  },
  {
   "cell_type": "code",
   "execution_count": 1,
   "id": "c491521a",
   "metadata": {},
   "outputs": [
    {
     "data": {
      "text/plain": [
       "356"
      ]
     },
     "execution_count": 1,
     "metadata": {},
     "output_type": "execute_result"
    }
   ],
   "source": [
    "A = [23171,21011,21123,21366,21013,21367]\n",
    "  \n",
    "\n",
    "def solution(A): \n",
    "\n",
    "    init = 0\n",
    "            \n",
    "    a = len(A)\n",
    "    \n",
    "    if (a < 2):\n",
    "        return 0 \n",
    "\n",
    "    maxi = max(A)\n",
    "    maxi_index = A.index(maxi)  \n",
    "    mini = min(A)  \n",
    "    mini_index = A.index(mini) \n",
    "\n",
    "    if mini_index < maxi_index:\n",
    "        profit = maxi-mini        \n",
    "        return profit\n",
    "\n",
    "    if mini_index == a-1 and maxi_index == 0:\n",
    "        return 0\n",
    "        \n",
    "    \n",
    "    if mini_index > maxi_index:\n",
    "        if mini_index < a-1:\n",
    "            profit = max(A[mini_index:]) - mini\n",
    "        \n",
    "            \n",
    "        \n",
    "        if maxi_index > 0:\n",
    "            if maxi - min(A[:maxi_index]) > profit:\n",
    "                profit = maxi - min(A[:maxi_index])\n",
    "        \n",
    "            \n",
    "\n",
    "        if maxi_index + 2 < mini_index:\n",
    "            mini_index_1 = min(A[maxi_index+1:mini_index]) \n",
    "            maxi_index_2 = max(A[maxi_index+1:mini_index])\n",
    "            \n",
    "            if mini_index_1 < maxi_index_2:\n",
    "                \n",
    "                if max(A[maxi_index+1:mini_index]) -  min(A[maxi_index+1:mini_index]) > profit:\n",
    "                    profit = max(A[maxi_index+1:mini_index]) -  min(A[maxi_index+1:mini_index])\n",
    "        \n",
    "                \n",
    "\n",
    "    return profit\n",
    "\n",
    "\n",
    "solution(A)"
   ]
  },
  {
   "cell_type": "markdown",
   "id": "2becdf03",
   "metadata": {},
   "source": [
    "Task : Maximum slice problem"
   ]
  },
  {
   "cell_type": "code",
   "execution_count": 2,
   "id": "197d65b8",
   "metadata": {},
   "outputs": [
    {
     "data": {
      "text/plain": [
       "5"
      ]
     },
     "execution_count": 2,
     "metadata": {},
     "output_type": "execute_result"
    }
   ],
   "source": [
    "A = [3,2,-6,4,0]\n",
    "\n",
    "def solution(A):\n",
    "    list = []\n",
    "    sum = 0\n",
    "    \n",
    "    if len(A) == 1:\n",
    "        return A[0]\n",
    "    \n",
    "    for i in range(0,len(A)):\n",
    "        sum = sum + A[i]\n",
    "        \n",
    "        for x in range(i+1,len(A)):\n",
    "                sum = sum + A[x]\n",
    "                list.append(sum)            \n",
    "        sum = 0\n",
    "            \n",
    "        if max(list) < max(A):\n",
    "            return max(A) \n",
    "        return max(list)\n",
    "    \n",
    "solution(A)"
   ]
  },
  {
   "cell_type": "markdown",
   "id": "3fb6c980",
   "metadata": {},
   "source": [
    "Task : MaxDoubleSliceSum"
   ]
  },
  {
   "cell_type": "code",
   "execution_count": 3,
   "id": "16b6aa99",
   "metadata": {},
   "outputs": [
    {
     "data": {
      "text/plain": [
       "17"
      ]
     },
     "execution_count": 3,
     "metadata": {},
     "output_type": "execute_result"
    }
   ],
   "source": [
    "A = [3,2,6,-1,4,5,-1,2]\n",
    "\n",
    "def solution(A):    \n",
    "    double_slice_sum = []\n",
    "\n",
    "    for X in range(0, len(A)-2):\n",
    "        for Y in range(X+1, len(A)-1):\n",
    "            for Z in range(Y+1, len(A)):\n",
    "                if X+1 < Y and Y+1 < Z:\n",
    "                    double_slice_sum.append(sum(A[X+1:Y]) + sum(A[Y+1:Z]))\n",
    "                elif X+1 == Y and Y+1 < Z:\n",
    "                    double_slice_sum.append(sum(A[Y+1:Z]))\n",
    "                elif X+1 < Y and Y+1 == Z:\n",
    "                    double_slice_sum.append(sum(A[X+1:Y]))\n",
    "                elif X+1 == Y and Y+1 == Z:\n",
    "                    double_slice_sum.append(0)\n",
    "    return max(double_slice_sum)\n",
    "\n",
    "solution(A)"
   ]
  }
 ],
 "metadata": {
  "kernelspec": {
   "display_name": "Python 3 (ipykernel)",
   "language": "python",
   "name": "python3"
  },
  "language_info": {
   "codemirror_mode": {
    "name": "ipython",
    "version": 3
   },
   "file_extension": ".py",
   "mimetype": "text/x-python",
   "name": "python",
   "nbconvert_exporter": "python",
   "pygments_lexer": "ipython3",
   "version": "3.9.13"
  }
 },
 "nbformat": 4,
 "nbformat_minor": 5
}
