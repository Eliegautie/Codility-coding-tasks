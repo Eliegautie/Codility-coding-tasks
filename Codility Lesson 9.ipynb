{
 "cells": [
  {
   "cell_type": "markdown",
   "id": "6258c536",
   "metadata": {},
   "source": [
    "**Lesson 9:**  \n",
    "Task : MaxProfit"
   ]
  },
  {
   "cell_type": "code",
   "execution_count": 3,
   "id": "c491521a",
   "metadata": {},
   "outputs": [
    {
     "data": {
      "text/plain": [
       "356"
      ]
     },
     "execution_count": 3,
     "metadata": {},
     "output_type": "execute_result"
    }
   ],
   "source": [
    "A = [23171,21011,21123,21366,21013,21367]\n",
    "  \n",
    "\n",
    "def solution(A): \n",
    "            \n",
    "    a = len(A)\n",
    "    \n",
    "    if (a < 2):\n",
    "        return 0     \n",
    "    \n",
    "    i = 0\n",
    "    \n",
    "           \n",
    "    while ((i < (a - 1)) and (A[i + 1] <= A[i])):       \n",
    "        i += 1\n",
    "                \n",
    "        if (i == a - 1):\n",
    "            return 0\n",
    "                \n",
    "    buy = A[i]           \n",
    "    buy_index = A.index(buy) \n",
    "    A = A[buy_index:]   \n",
    "\n",
    "    sell = max(A)\n",
    "    sell_index = A.index(sell)\n",
    "\n",
    "    profit = sell-buy\n",
    "\n",
    "    if sell_index == len(A)-1:\n",
    "        return profit        \n",
    "    \n",
    "    sell_1 = max(A[sell_index+1:])        \n",
    "    sell_index_1 = A.index(sell_1)\n",
    "    buy_1 = min(A[:sell_index_1])\n",
    "    \n",
    "    profit_1 = sell_1 - buy_1\n",
    "        \n",
    "\n",
    "    return max(profit, profit_1)\n",
    "\n",
    "solution(A)"
   ]
  },
  {
   "cell_type": "markdown",
   "id": "2becdf03",
   "metadata": {},
   "source": [
    "Task : Maximum slice problem"
   ]
  },
  {
   "cell_type": "code",
   "execution_count": 3,
   "id": "197d65b8",
   "metadata": {},
   "outputs": [
    {
     "data": {
      "text/plain": [
       "5"
      ]
     },
     "execution_count": 3,
     "metadata": {},
     "output_type": "execute_result"
    }
   ],
   "source": [
    "A = [3,2,-6,4,0]\n",
    "\n",
    "def solution(A):\n",
    "    list = []\n",
    "    sum = 0\n",
    "    \n",
    "    if len(A) == 1:\n",
    "        return A[0]\n",
    "    \n",
    "    for i in range(0,len(A)):\n",
    "        sum = sum + A[i]\n",
    "        \n",
    "        for x in range(i+1,len(A)):\n",
    "                sum = sum + A[x]\n",
    "                list.append(sum)            \n",
    "        sum = 0\n",
    "            \n",
    "        if max(list) < max(A):\n",
    "            return max(A) \n",
    "        return max(list)\n",
    "    \n",
    "solution(A)"
   ]
  },
  {
   "cell_type": "markdown",
   "id": "3fb6c980",
   "metadata": {},
   "source": [
    "Task : MaxDoubleSliceSum"
   ]
  },
  {
   "cell_type": "code",
   "execution_count": 8,
   "id": "16b6aa99",
   "metadata": {},
   "outputs": [
    {
     "ename": "TypeError",
     "evalue": "'int' object is not callable",
     "output_type": "error",
     "traceback": [
      "\u001b[1;31m---------------------------------------------------------------------------\u001b[0m",
      "\u001b[1;31mTypeError\u001b[0m                                 Traceback (most recent call last)",
      "\u001b[1;32m~\\AppData\\Local\\Temp\\ipykernel_17984\\3421208018.py\u001b[0m in \u001b[0;36m<module>\u001b[1;34m\u001b[0m\n\u001b[0;32m     17\u001b[0m     \u001b[1;32mreturn\u001b[0m \u001b[0mmax\u001b[0m\u001b[1;33m(\u001b[0m\u001b[0mdouble_slice_sum\u001b[0m\u001b[1;33m)\u001b[0m\u001b[1;33m\u001b[0m\u001b[1;33m\u001b[0m\u001b[0m\n\u001b[0;32m     18\u001b[0m \u001b[1;33m\u001b[0m\u001b[0m\n\u001b[1;32m---> 19\u001b[1;33m \u001b[0msolution\u001b[0m\u001b[1;33m(\u001b[0m\u001b[0mA\u001b[0m\u001b[1;33m)\u001b[0m\u001b[1;33m\u001b[0m\u001b[1;33m\u001b[0m\u001b[0m\n\u001b[0m",
      "\u001b[1;32m~\\AppData\\Local\\Temp\\ipykernel_17984\\3421208018.py\u001b[0m in \u001b[0;36msolution\u001b[1;34m(A)\u001b[0m\n\u001b[0;32m     10\u001b[0m                     \u001b[0mdouble_slice_sum\u001b[0m\u001b[1;33m.\u001b[0m\u001b[0mappend\u001b[0m\u001b[1;33m(\u001b[0m\u001b[0msum\u001b[0m\u001b[1;33m(\u001b[0m\u001b[0mA\u001b[0m\u001b[1;33m[\u001b[0m\u001b[0mX\u001b[0m\u001b[1;33m+\u001b[0m\u001b[1;36m1\u001b[0m\u001b[1;33m:\u001b[0m\u001b[0mY\u001b[0m\u001b[1;33m]\u001b[0m\u001b[1;33m)\u001b[0m \u001b[1;33m+\u001b[0m \u001b[0msum\u001b[0m\u001b[1;33m(\u001b[0m\u001b[0mA\u001b[0m\u001b[1;33m[\u001b[0m\u001b[0mY\u001b[0m\u001b[1;33m+\u001b[0m\u001b[1;36m1\u001b[0m\u001b[1;33m:\u001b[0m\u001b[0mZ\u001b[0m\u001b[1;33m]\u001b[0m\u001b[1;33m)\u001b[0m\u001b[1;33m)\u001b[0m\u001b[1;33m\u001b[0m\u001b[1;33m\u001b[0m\u001b[0m\n\u001b[0;32m     11\u001b[0m                 \u001b[1;32melif\u001b[0m \u001b[0mX\u001b[0m\u001b[1;33m+\u001b[0m\u001b[1;36m1\u001b[0m \u001b[1;33m==\u001b[0m \u001b[0mY\u001b[0m \u001b[1;32mand\u001b[0m \u001b[0mY\u001b[0m\u001b[1;33m+\u001b[0m\u001b[1;36m1\u001b[0m \u001b[1;33m<\u001b[0m \u001b[0mZ\u001b[0m\u001b[1;33m:\u001b[0m\u001b[1;33m\u001b[0m\u001b[1;33m\u001b[0m\u001b[0m\n\u001b[1;32m---> 12\u001b[1;33m                     \u001b[0mdouble_slice_sum\u001b[0m\u001b[1;33m.\u001b[0m\u001b[0mappend\u001b[0m\u001b[1;33m(\u001b[0m\u001b[0msum\u001b[0m\u001b[1;33m(\u001b[0m\u001b[0mA\u001b[0m\u001b[1;33m[\u001b[0m\u001b[0mY\u001b[0m\u001b[1;33m+\u001b[0m\u001b[1;36m1\u001b[0m\u001b[1;33m:\u001b[0m\u001b[0mZ\u001b[0m\u001b[1;33m]\u001b[0m\u001b[1;33m)\u001b[0m\u001b[1;33m)\u001b[0m\u001b[1;33m\u001b[0m\u001b[1;33m\u001b[0m\u001b[0m\n\u001b[0m\u001b[0;32m     13\u001b[0m                 \u001b[1;32melif\u001b[0m \u001b[0mX\u001b[0m\u001b[1;33m+\u001b[0m\u001b[1;36m1\u001b[0m \u001b[1;33m<\u001b[0m \u001b[0mY\u001b[0m \u001b[1;32mand\u001b[0m \u001b[0mY\u001b[0m\u001b[1;33m+\u001b[0m\u001b[1;36m1\u001b[0m \u001b[1;33m==\u001b[0m \u001b[0mZ\u001b[0m\u001b[1;33m:\u001b[0m\u001b[1;33m\u001b[0m\u001b[1;33m\u001b[0m\u001b[0m\n\u001b[0;32m     14\u001b[0m                     \u001b[0mdouble_slice_sum\u001b[0m\u001b[1;33m.\u001b[0m\u001b[0mappend\u001b[0m\u001b[1;33m(\u001b[0m\u001b[0msum\u001b[0m\u001b[1;33m(\u001b[0m\u001b[0mA\u001b[0m\u001b[1;33m[\u001b[0m\u001b[0mX\u001b[0m\u001b[1;33m+\u001b[0m\u001b[1;36m1\u001b[0m\u001b[1;33m:\u001b[0m\u001b[0mY\u001b[0m\u001b[1;33m]\u001b[0m\u001b[1;33m)\u001b[0m\u001b[1;33m)\u001b[0m\u001b[1;33m\u001b[0m\u001b[1;33m\u001b[0m\u001b[0m\n",
      "\u001b[1;31mTypeError\u001b[0m: 'int' object is not callable"
     ]
    }
   ],
   "source": [
    "A = [3,2,6,-1,4,5,-1,2]\n",
    "\n",
    "def solution(A):    \n",
    "    double_slice_sum = []\n",
    "\n",
    "    for X in range(0, len(A)-2):\n",
    "        for Y in range(X+1, len(A)-1):\n",
    "            for Z in range(Y+1, len(A)):\n",
    "                if X+1 < Y and Y+1 < Z:\n",
    "                    double_slice_sum.append(sum(A[X+1:Y]) + sum(A[Y+1:Z]))\n",
    "                elif X+1 == Y and Y+1 < Z:\n",
    "                    double_slice_sum.append(sum(A[Y+1:Z]))\n",
    "                elif X+1 < Y and Y+1 == Z:\n",
    "                    double_slice_sum.append(sum(A[X+1:Y]))\n",
    "                elif X+1 == Y and Y+1 == Z:\n",
    "                    double_slice_sum.append(0)\n",
    "    return max(double_slice_sum)\n",
    "\n",
    "solution(A)"
   ]
  },
  {
   "cell_type": "code",
   "execution_count": null,
   "id": "d0779c47",
   "metadata": {},
   "outputs": [],
   "source": []
  }
 ],
 "metadata": {
  "kernelspec": {
   "display_name": "Python 3 (ipykernel)",
   "language": "python",
   "name": "python3"
  },
  "language_info": {
   "codemirror_mode": {
    "name": "ipython",
    "version": 3
   },
   "file_extension": ".py",
   "mimetype": "text/x-python",
   "name": "python",
   "nbconvert_exporter": "python",
   "pygments_lexer": "ipython3",
   "version": "3.9.13"
  }
 },
 "nbformat": 4,
 "nbformat_minor": 5
}
